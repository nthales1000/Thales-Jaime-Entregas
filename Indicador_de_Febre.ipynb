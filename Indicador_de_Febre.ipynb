{
  "nbformat": 4,
  "nbformat_minor": 0,
  "metadata": {
    "colab": {
      "provenance": [],
      "gpuType": "T4",
      "authorship_tag": "ABX9TyNHGfiFpKT9Ld3BwZ3SNiUr",
      "include_colab_link": true
    },
    "kernelspec": {
      "name": "python3",
      "display_name": "Python 3"
    },
    "language_info": {
      "name": "python"
    },
    "accelerator": "GPU"
  },
  "cells": [
    {
      "cell_type": "markdown",
      "metadata": {
        "id": "view-in-github",
        "colab_type": "text"
      },
      "source": [
        "<a href=\"https://colab.research.google.com/github/nthales1000/Thales-Jaime-Entregas/blob/Thales-Jaime-Projeto-Final/Indicador_de_Febre.ipynb\" target=\"_parent\"><img src=\"https://colab.research.google.com/assets/colab-badge.svg\" alt=\"Open In Colab\"/></a>"
      ]
    },
    {
      "cell_type": "markdown",
      "source": [
        "# Indicador de Febre"
      ],
      "metadata": {
        "id": "B7JVyGeiDMzl"
      }
    },
    {
      "cell_type": "code",
      "execution_count": null,
      "metadata": {
        "colab": {
          "base_uri": "https://localhost:8080/"
        },
        "id": "aNuxqbTMBuTe",
        "outputId": "7e0e1f6d-d8ab-400a-df5f-4e5d8be3b533"
      },
      "outputs": [
        {
          "output_type": "stream",
          "name": "stdout",
          "text": [
            "Requirement already satisfied: pandas in /usr/local/lib/python3.10/dist-packages (1.5.3)\n",
            "Requirement already satisfied: python-dateutil>=2.8.1 in /usr/local/lib/python3.10/dist-packages (from pandas) (2.8.2)\n",
            "Requirement already satisfied: pytz>=2020.1 in /usr/local/lib/python3.10/dist-packages (from pandas) (2023.3.post1)\n",
            "Requirement already satisfied: numpy>=1.21.0 in /usr/local/lib/python3.10/dist-packages (from pandas) (1.23.5)\n",
            "Requirement already satisfied: six>=1.5 in /usr/local/lib/python3.10/dist-packages (from python-dateutil>=2.8.1->pandas) (1.16.0)\n"
          ]
        }
      ],
      "source": [
        "!pip install pandas"
      ]
    },
    {
      "cell_type": "code",
      "source": [
        "!pip install matplotlib"
      ],
      "metadata": {
        "colab": {
          "base_uri": "https://localhost:8080/"
        },
        "id": "tLOFqIqSG9-u",
        "outputId": "044765cd-c521-4cf6-f852-2d6fef6ec881"
      },
      "execution_count": null,
      "outputs": [
        {
          "output_type": "stream",
          "name": "stdout",
          "text": [
            "Requirement already satisfied: matplotlib in /usr/local/lib/python3.10/dist-packages (3.7.1)\n",
            "Requirement already satisfied: contourpy>=1.0.1 in /usr/local/lib/python3.10/dist-packages (from matplotlib) (1.2.0)\n",
            "Requirement already satisfied: cycler>=0.10 in /usr/local/lib/python3.10/dist-packages (from matplotlib) (0.12.1)\n",
            "Requirement already satisfied: fonttools>=4.22.0 in /usr/local/lib/python3.10/dist-packages (from matplotlib) (4.47.2)\n",
            "Requirement already satisfied: kiwisolver>=1.0.1 in /usr/local/lib/python3.10/dist-packages (from matplotlib) (1.4.5)\n",
            "Requirement already satisfied: numpy>=1.20 in /usr/local/lib/python3.10/dist-packages (from matplotlib) (1.23.5)\n",
            "Requirement already satisfied: packaging>=20.0 in /usr/local/lib/python3.10/dist-packages (from matplotlib) (23.2)\n",
            "Requirement already satisfied: pillow>=6.2.0 in /usr/local/lib/python3.10/dist-packages (from matplotlib) (9.4.0)\n",
            "Requirement already satisfied: pyparsing>=2.3.1 in /usr/local/lib/python3.10/dist-packages (from matplotlib) (3.1.1)\n",
            "Requirement already satisfied: python-dateutil>=2.7 in /usr/local/lib/python3.10/dist-packages (from matplotlib) (2.8.2)\n",
            "Requirement already satisfied: six>=1.5 in /usr/local/lib/python3.10/dist-packages (from python-dateutil>=2.7->matplotlib) (1.16.0)\n"
          ]
        }
      ]
    },
    {
      "cell_type": "code",
      "source": [
        "import pandas as pd"
      ],
      "metadata": {
        "id": "0cRCSP8KHF6m"
      },
      "execution_count": null,
      "outputs": []
    },
    {
      "cell_type": "code",
      "source": [
        "import matplotlib.pyplot as plt"
      ],
      "metadata": {
        "id": "10sFbEPxG_gL"
      },
      "execution_count": null,
      "outputs": []
    },
    {
      "cell_type": "markdown",
      "source": [
        "Criar um DataFrame de exemplo com nomes de pacientes e suas temperaturas"
      ],
      "metadata": {
        "id": "TBbpS7s2HI8M"
      }
    },
    {
      "cell_type": "code",
      "source": [
        "data = {'Paciente': ['Fernando', 'Paciente2', 'Paciente3', 'Paciente4'],\n",
        "        'Temperatura': [38.5, 38.2, 37.5, 36.8]}"
      ],
      "metadata": {
        "id": "bS__o-cZHUUE"
      },
      "execution_count": null,
      "outputs": []
    },
    {
      "cell_type": "code",
      "source": [
        "df = pd.DataFrame(data)"
      ],
      "metadata": {
        "id": "Days0yDeHWd8"
      },
      "execution_count": null,
      "outputs": []
    },
    {
      "cell_type": "markdown",
      "source": [
        "Adicionar uma coluna 'Classificacao' com base nas condições de febre"
      ],
      "metadata": {
        "id": "j97KHBpKHZgM"
      }
    },
    {
      "cell_type": "code",
      "source": [
        "df['Classificacao'] = pd.cut(df['Temperatura'],\n",
        "                              bins=[-float('inf'), 37, 37.8, float('inf')],\n",
        "                              labels=['Sem Febre', 'Estado Febril', 'Febre'])"
      ],
      "metadata": {
        "id": "M1EfM5MwHayL"
      },
      "execution_count": null,
      "outputs": []
    },
    {
      "cell_type": "markdown",
      "source": [
        "Mapear as cores para as categorias"
      ],
      "metadata": {
        "id": "pucslDGdHeY8"
      }
    },
    {
      "cell_type": "code",
      "source": [
        "cores = {'Sem Febre': 'green', 'Estado Febril': 'yellow', 'Febre': 'red'}\n",
        "df['Cores'] = df['Classificacao'].map(cores)\n"
      ],
      "metadata": {
        "id": "-CkaaRhuHfpz"
      },
      "execution_count": null,
      "outputs": []
    },
    {
      "cell_type": "markdown",
      "source": [
        "Exibir o DataFrame resultante"
      ],
      "metadata": {
        "id": "ffkIAZfTDul8"
      }
    },
    {
      "cell_type": "code",
      "source": [
        "print(df)"
      ],
      "metadata": {
        "colab": {
          "base_uri": "https://localhost:8080/"
        },
        "id": "jr4DWbumDv4m",
        "outputId": "103abe44-0684-4ad1-8ab0-bd2f3263bedc"
      },
      "execution_count": null,
      "outputs": [
        {
          "output_type": "stream",
          "name": "stdout",
          "text": [
            "    Paciente  Temperatura  Classificacao   Cores\n",
            "0   Fernando         38.5          Febre     red\n",
            "1  Paciente2         38.2          Febre     red\n",
            "2  Paciente3         37.5  Estado Febril  yellow\n",
            "3  Paciente4         36.8      Sem Febre   green\n"
          ]
        }
      ]
    },
    {
      "cell_type": "markdown",
      "source": [
        "Plotar o gráfico de barras"
      ],
      "metadata": {
        "id": "bk_GPncWHh3T"
      }
    },
    {
      "cell_type": "code",
      "source": [
        "plt.bar(df['Paciente'], df['Temperatura'], color=df['Cores'])\n",
        "plt.xlabel('Pacientes')\n",
        "plt.ylabel('Temperatura (°C)')\n",
        "plt.title('Classificação de Febre')\n",
        "plt.show()"
      ],
      "metadata": {
        "colab": {
          "base_uri": "https://localhost:8080/",
          "height": 472
        },
        "id": "VQmULlf3HlEM",
        "outputId": "5f22a41d-5d2f-42d7-e36a-49f68a7c1026"
      },
      "execution_count": null,
      "outputs": [
        {
          "output_type": "display_data",
          "data": {
            "text/plain": [
              "<Figure size 640x480 with 1 Axes>"
            ],
            "image/png": "[encoded data removed]"
          },
          "metadata": {}
        }
      ]
    }
  ]
}